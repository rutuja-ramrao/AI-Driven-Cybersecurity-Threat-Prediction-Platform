{
  "nbformat": 4,
  "nbformat_minor": 0,
  "metadata": {
    "colab": {
      "provenance": [],
      "authorship_tag": "ABX9TyOCS+2O4onE1w/5yezf+aWy",
      "include_colab_link": true
    },
    "kernelspec": {
      "name": "python3",
      "display_name": "Python 3"
    },
    "language_info": {
      "name": "python"
    }
  },
  "cells": [
    {
      "cell_type": "markdown",
      "metadata": {
        "id": "view-in-github",
        "colab_type": "text"
      },
      "source": [
        "<a href=\"https://colab.research.google.com/github/rutuja-ramrao/AI-Driven-Cybersecurity-Threat-Prediction-Platform/blob/main/sql_task.ipynb\" target=\"_parent\"><img src=\"https://colab.research.google.com/assets/colab-badge.svg\" alt=\"Open In Colab\"/></a>"
      ]
    },
    {
      "cell_type": "code",
      "execution_count": 26,
      "metadata": {
        "colab": {
          "base_uri": "https://localhost:8080/"
        },
        "id": "VYGOhNSnSyQC",
        "outputId": "e031441d-b557-45cd-96e2-df44b74d290e"
      },
      "outputs": [
        {
          "output_type": "stream",
          "name": "stdout",
          "text": [
            "['.config', 'drive', 'cyber_threat_sample (1).csv', 'cyber_threat_sample.csv', 'sample_data']\n"
          ]
        }
      ],
      "source": [
        "import os\n",
        "print(os.listdir())\n"
      ]
    },
    {
      "cell_type": "code",
      "source": [
        "from google.colab import files\n",
        "uploaded = files.upload()\n"
      ],
      "metadata": {
        "colab": {
          "base_uri": "https://localhost:8080/",
          "height": 73
        },
        "id": "e-4WnsZgTpJr",
        "outputId": "ec9e7d58-a525-4fcd-d77f-72df19b5c566"
      },
      "execution_count": 27,
      "outputs": [
        {
          "output_type": "display_data",
          "data": {
            "text/plain": [
              "<IPython.core.display.HTML object>"
            ],
            "text/html": [
              "\n",
              "     <input type=\"file\" id=\"files-0db8d567-fccb-42ea-a57b-518af577e45e\" name=\"files[]\" multiple disabled\n",
              "        style=\"border:none\" />\n",
              "     <output id=\"result-0db8d567-fccb-42ea-a57b-518af577e45e\">\n",
              "      Upload widget is only available when the cell has been executed in the\n",
              "      current browser session. Please rerun this cell to enable.\n",
              "      </output>\n",
              "      <script>// Copyright 2017 Google LLC\n",
              "//\n",
              "// Licensed under the Apache License, Version 2.0 (the \"License\");\n",
              "// you may not use this file except in compliance with the License.\n",
              "// You may obtain a copy of the License at\n",
              "//\n",
              "//      http://www.apache.org/licenses/LICENSE-2.0\n",
              "//\n",
              "// Unless required by applicable law or agreed to in writing, software\n",
              "// distributed under the License is distributed on an \"AS IS\" BASIS,\n",
              "// WITHOUT WARRANTIES OR CONDITIONS OF ANY KIND, either express or implied.\n",
              "// See the License for the specific language governing permissions and\n",
              "// limitations under the License.\n",
              "\n",
              "/**\n",
              " * @fileoverview Helpers for google.colab Python module.\n",
              " */\n",
              "(function(scope) {\n",
              "function span(text, styleAttributes = {}) {\n",
              "  const element = document.createElement('span');\n",
              "  element.textContent = text;\n",
              "  for (const key of Object.keys(styleAttributes)) {\n",
              "    element.style[key] = styleAttributes[key];\n",
              "  }\n",
              "  return element;\n",
              "}\n",
              "\n",
              "// Max number of bytes which will be uploaded at a time.\n",
              "const MAX_PAYLOAD_SIZE = 100 * 1024;\n",
              "\n",
              "function _uploadFiles(inputId, outputId) {\n",
              "  const steps = uploadFilesStep(inputId, outputId);\n",
              "  const outputElement = document.getElementById(outputId);\n",
              "  // Cache steps on the outputElement to make it available for the next call\n",
              "  // to uploadFilesContinue from Python.\n",
              "  outputElement.steps = steps;\n",
              "\n",
              "  return _uploadFilesContinue(outputId);\n",
              "}\n",
              "\n",
              "// This is roughly an async generator (not supported in the browser yet),\n",
              "// where there are multiple asynchronous steps and the Python side is going\n",
              "// to poll for completion of each step.\n",
              "// This uses a Promise to block the python side on completion of each step,\n",
              "// then passes the result of the previous step as the input to the next step.\n",
              "function _uploadFilesContinue(outputId) {\n",
              "  const outputElement = document.getElementById(outputId);\n",
              "  const steps = outputElement.steps;\n",
              "\n",
              "  const next = steps.next(outputElement.lastPromiseValue);\n",
              "  return Promise.resolve(next.value.promise).then((value) => {\n",
              "    // Cache the last promise value to make it available to the next\n",
              "    // step of the generator.\n",
              "    outputElement.lastPromiseValue = value;\n",
              "    return next.value.response;\n",
              "  });\n",
              "}\n",
              "\n",
              "/**\n",
              " * Generator function which is called between each async step of the upload\n",
              " * process.\n",
              " * @param {string} inputId Element ID of the input file picker element.\n",
              " * @param {string} outputId Element ID of the output display.\n",
              " * @return {!Iterable<!Object>} Iterable of next steps.\n",
              " */\n",
              "function* uploadFilesStep(inputId, outputId) {\n",
              "  const inputElement = document.getElementById(inputId);\n",
              "  inputElement.disabled = false;\n",
              "\n",
              "  const outputElement = document.getElementById(outputId);\n",
              "  outputElement.innerHTML = '';\n",
              "\n",
              "  const pickedPromise = new Promise((resolve) => {\n",
              "    inputElement.addEventListener('change', (e) => {\n",
              "      resolve(e.target.files);\n",
              "    });\n",
              "  });\n",
              "\n",
              "  const cancel = document.createElement('button');\n",
              "  inputElement.parentElement.appendChild(cancel);\n",
              "  cancel.textContent = 'Cancel upload';\n",
              "  const cancelPromise = new Promise((resolve) => {\n",
              "    cancel.onclick = () => {\n",
              "      resolve(null);\n",
              "    };\n",
              "  });\n",
              "\n",
              "  // Wait for the user to pick the files.\n",
              "  const files = yield {\n",
              "    promise: Promise.race([pickedPromise, cancelPromise]),\n",
              "    response: {\n",
              "      action: 'starting',\n",
              "    }\n",
              "  };\n",
              "\n",
              "  cancel.remove();\n",
              "\n",
              "  // Disable the input element since further picks are not allowed.\n",
              "  inputElement.disabled = true;\n",
              "\n",
              "  if (!files) {\n",
              "    return {\n",
              "      response: {\n",
              "        action: 'complete',\n",
              "      }\n",
              "    };\n",
              "  }\n",
              "\n",
              "  for (const file of files) {\n",
              "    const li = document.createElement('li');\n",
              "    li.append(span(file.name, {fontWeight: 'bold'}));\n",
              "    li.append(span(\n",
              "        `(${file.type || 'n/a'}) - ${file.size} bytes, ` +\n",
              "        `last modified: ${\n",
              "            file.lastModifiedDate ? file.lastModifiedDate.toLocaleDateString() :\n",
              "                                    'n/a'} - `));\n",
              "    const percent = span('0% done');\n",
              "    li.appendChild(percent);\n",
              "\n",
              "    outputElement.appendChild(li);\n",
              "\n",
              "    const fileDataPromise = new Promise((resolve) => {\n",
              "      const reader = new FileReader();\n",
              "      reader.onload = (e) => {\n",
              "        resolve(e.target.result);\n",
              "      };\n",
              "      reader.readAsArrayBuffer(file);\n",
              "    });\n",
              "    // Wait for the data to be ready.\n",
              "    let fileData = yield {\n",
              "      promise: fileDataPromise,\n",
              "      response: {\n",
              "        action: 'continue',\n",
              "      }\n",
              "    };\n",
              "\n",
              "    // Use a chunked sending to avoid message size limits. See b/62115660.\n",
              "    let position = 0;\n",
              "    do {\n",
              "      const length = Math.min(fileData.byteLength - position, MAX_PAYLOAD_SIZE);\n",
              "      const chunk = new Uint8Array(fileData, position, length);\n",
              "      position += length;\n",
              "\n",
              "      const base64 = btoa(String.fromCharCode.apply(null, chunk));\n",
              "      yield {\n",
              "        response: {\n",
              "          action: 'append',\n",
              "          file: file.name,\n",
              "          data: base64,\n",
              "        },\n",
              "      };\n",
              "\n",
              "      let percentDone = fileData.byteLength === 0 ?\n",
              "          100 :\n",
              "          Math.round((position / fileData.byteLength) * 100);\n",
              "      percent.textContent = `${percentDone}% done`;\n",
              "\n",
              "    } while (position < fileData.byteLength);\n",
              "  }\n",
              "\n",
              "  // All done.\n",
              "  yield {\n",
              "    response: {\n",
              "      action: 'complete',\n",
              "    }\n",
              "  };\n",
              "}\n",
              "\n",
              "scope.google = scope.google || {};\n",
              "scope.google.colab = scope.google.colab || {};\n",
              "scope.google.colab._files = {\n",
              "  _uploadFiles,\n",
              "  _uploadFilesContinue,\n",
              "};\n",
              "})(self);\n",
              "</script> "
            ]
          },
          "metadata": {}
        },
        {
          "output_type": "stream",
          "name": "stdout",
          "text": [
            "Saving cyber_threat_sample.csv to cyber_threat_sample (2).csv\n"
          ]
        }
      ]
    },
    {
      "cell_type": "code",
      "source": [
        "# Step 2: Load dataset\n",
        "import pandas as pd\n",
        "\n",
        "df = pd.read_csv(\"cyber_threat_sample.csv\")\n",
        "\n",
        "# Step 3: View first 5 rows\n",
        "print(df.head())\n"
      ],
      "metadata": {
        "colab": {
          "base_uri": "https://localhost:8080/"
        },
        "id": "1_843p4WT34f",
        "outputId": "e2e0c69c-a07a-4278-9f78-0ce289c2a870"
      },
      "execution_count": 28,
      "outputs": [
        {
          "output_type": "stream",
          "name": "stdout",
          "text": [
            "   id            timestamp      source_ip destination_ip    threat_type  \\\n",
            "0   1  2025-08-20 10:15:00   192.168.1.10       10.0.0.2        Malware   \n",
            "1   2  2025-08-20 10:30:00       10.0.0.5    192.168.1.1       Phishing   \n",
            "2   3  2025-08-20 10:45:00     172.16.0.3       10.0.0.1           DDoS   \n",
            "3   4  2025-08-20 11:00:00   203.0.113.45     172.16.0.2  SQL Injection   \n",
            "4   5  2025-08-20 11:15:00  198.51.100.22    192.168.1.2     Ransomware   \n",
            "\n",
            "   severity     status  \n",
            "0      High   Detected  \n",
            "1    Medium   Detected  \n",
            "2      High  Mitigated  \n",
            "3  Critical   Detected  \n",
            "4  Critical  Mitigated  \n"
          ]
        }
      ]
    },
    {
      "cell_type": "code",
      "source": [
        "# 1. Count total records\n",
        "print(len(df))\n",
        "\n",
        "# 2. Show all unique threat types\n",
        "print(df[\"threat_type\"].unique())\n",
        "\n",
        "# 3. Count records per threat type\n",
        "print(df[\"threat_type\"].value_counts())\n",
        "\n",
        "# 4. Show all critical severity threats\n",
        "print(df[df[\"severity\"] == \"Critical\"])\n",
        "\n",
        "# 5. Count number of detected threats\n",
        "print(df[df[\"status\"] == \"Detected\"].shape[0])\n"
      ],
      "metadata": {
        "colab": {
          "base_uri": "https://localhost:8080/"
        },
        "id": "f-JjM-YiT8dy",
        "outputId": "2a379473-d1c0-4371-a896-55a4a2047cb0"
      },
      "execution_count": 29,
      "outputs": [
        {
          "output_type": "stream",
          "name": "stdout",
          "text": [
            "10\n",
            "['Malware' 'Phishing' 'DDoS' 'SQL Injection' 'Ransomware' 'Brute Force']\n",
            "threat_type\n",
            "Malware          2\n",
            "Phishing         2\n",
            "DDoS             2\n",
            "Ransomware       2\n",
            "SQL Injection    1\n",
            "Brute Force      1\n",
            "Name: count, dtype: int64\n",
            "   id            timestamp      source_ip destination_ip    threat_type  \\\n",
            "3   4  2025-08-20 11:00:00   203.0.113.45     172.16.0.2  SQL Injection   \n",
            "4   5  2025-08-20 11:15:00  198.51.100.22    192.168.1.2     Ransomware   \n",
            "9  10  2025-08-20 12:30:00  198.51.100.25    192.168.1.4     Ransomware   \n",
            "\n",
            "   severity     status  \n",
            "3  Critical   Detected  \n",
            "4  Critical  Mitigated  \n",
            "9  Critical  Mitigated  \n",
            "6\n"
          ]
        }
      ]
    },
    {
      "cell_type": "code",
      "source": [
        "# 6. Threats from a specific IP\n",
        "print(df[df[\"source_ip\"] == \"192.168.1.10\"])\n",
        "\n",
        "# 7. High severity threats only\n",
        "print(df[df[\"severity\"] == \"High\"])\n",
        "\n",
        "# 8. Show ransomware attacks\n",
        "print(df[df[\"threat_type\"] == \"Ransomware\"])\n",
        "\n",
        "# 9. Show records after a specific time\n",
        "df[\"timestamp\"] = pd.to_datetime(df[\"timestamp\"])\n",
        "print(df[df[\"timestamp\"] > \"2025-08-20 11:00:00\"])\n",
        "\n",
        "# 10. Count threats mitigated\n",
        "print(df[df[\"status\"] == \"Mitigated\"].shape[0])\n"
      ],
      "metadata": {
        "colab": {
          "base_uri": "https://localhost:8080/"
        },
        "id": "QyqOIIPKT-Ny",
        "outputId": "dcc515a0-5d68-4df4-8bd4-c5a8825c2aad"
      },
      "execution_count": 30,
      "outputs": [
        {
          "output_type": "stream",
          "name": "stdout",
          "text": [
            "   id            timestamp     source_ip destination_ip threat_type severity  \\\n",
            "0   1  2025-08-20 10:15:00  192.168.1.10       10.0.0.2     Malware     High   \n",
            "\n",
            "     status  \n",
            "0  Detected  \n",
            "   id            timestamp     source_ip destination_ip threat_type severity  \\\n",
            "0   1  2025-08-20 10:15:00  192.168.1.10       10.0.0.2     Malware     High   \n",
            "2   3  2025-08-20 10:45:00    172.16.0.3       10.0.0.1        DDoS     High   \n",
            "7   8  2025-08-20 12:00:00    172.16.0.4       10.0.0.4    Phishing     High   \n",
            "8   9  2025-08-20 12:15:00  203.0.113.50     172.16.0.5        DDoS     High   \n",
            "\n",
            "      status  \n",
            "0   Detected  \n",
            "2  Mitigated  \n",
            "7   Detected  \n",
            "8   Detected  \n",
            "   id            timestamp      source_ip destination_ip threat_type  \\\n",
            "4   5  2025-08-20 11:15:00  198.51.100.22    192.168.1.2  Ransomware   \n",
            "9  10  2025-08-20 12:30:00  198.51.100.25    192.168.1.4  Ransomware   \n",
            "\n",
            "   severity     status  \n",
            "4  Critical  Mitigated  \n",
            "9  Critical  Mitigated  \n",
            "   id           timestamp      source_ip destination_ip  threat_type  \\\n",
            "4   5 2025-08-20 11:15:00  198.51.100.22    192.168.1.2   Ransomware   \n",
            "5   6 2025-08-20 11:30:00   192.168.1.15       10.0.0.3  Brute Force   \n",
            "6   7 2025-08-20 11:45:00       10.0.0.8    192.168.1.3      Malware   \n",
            "7   8 2025-08-20 12:00:00     172.16.0.4       10.0.0.4     Phishing   \n",
            "8   9 2025-08-20 12:15:00   203.0.113.50     172.16.0.5         DDoS   \n",
            "9  10 2025-08-20 12:30:00  198.51.100.25    192.168.1.4   Ransomware   \n",
            "\n",
            "   severity     status  \n",
            "4  Critical  Mitigated  \n",
            "5       Low   Detected  \n",
            "6    Medium  Mitigated  \n",
            "7      High   Detected  \n",
            "8      High   Detected  \n",
            "9  Critical  Mitigated  \n",
            "4\n"
          ]
        }
      ]
    },
    {
      "cell_type": "code",
      "source": [
        "# 11. Count threats by severity\n",
        "print(df.groupby(\"severity\")[\"id\"].count())\n",
        "\n",
        "# 12. Count threats by status\n",
        "print(df.groupby(\"status\")[\"id\"].count())\n",
        "\n",
        "# 13. Count threats by source IP\n",
        "print(df.groupby(\"source_ip\")[\"id\"].count())\n",
        "\n",
        "# 14. Count threats by destination IP\n",
        "print(df.groupby(\"destination_ip\")[\"id\"].count())\n",
        "\n",
        "# 15. Most common threat type\n",
        "print(df[\"threat_type\"].mode()[0])\n"
      ],
      "metadata": {
        "colab": {
          "base_uri": "https://localhost:8080/"
        },
        "id": "OMlz79Y4UBUV",
        "outputId": "60f28937-4470-4a0a-bb6e-21f1c4197997"
      },
      "execution_count": 31,
      "outputs": [
        {
          "output_type": "stream",
          "name": "stdout",
          "text": [
            "severity\n",
            "Critical    3\n",
            "High        4\n",
            "Low         1\n",
            "Medium      2\n",
            "Name: id, dtype: int64\n",
            "status\n",
            "Detected     6\n",
            "Mitigated    4\n",
            "Name: id, dtype: int64\n",
            "source_ip\n",
            "10.0.0.5         1\n",
            "10.0.0.8         1\n",
            "172.16.0.3       1\n",
            "172.16.0.4       1\n",
            "192.168.1.10     1\n",
            "192.168.1.15     1\n",
            "198.51.100.22    1\n",
            "198.51.100.25    1\n",
            "203.0.113.45     1\n",
            "203.0.113.50     1\n",
            "Name: id, dtype: int64\n",
            "destination_ip\n",
            "10.0.0.1       1\n",
            "10.0.0.2       1\n",
            "10.0.0.3       1\n",
            "10.0.0.4       1\n",
            "172.16.0.2     1\n",
            "172.16.0.5     1\n",
            "192.168.1.1    1\n",
            "192.168.1.2    1\n",
            "192.168.1.3    1\n",
            "192.168.1.4    1\n",
            "Name: id, dtype: int64\n",
            "DDoS\n"
          ]
        }
      ]
    },
    {
      "cell_type": "code",
      "source": [
        "# 16. Top 3 IPs with most attacks\n",
        "print(df[\"source_ip\"].value_counts().head(3))\n",
        "\n",
        "# 17. Show threats that are Critical and Mitigated\n",
        "print(df[(df[\"severity\"] == \"Critical\") & (df[\"status\"] == \"Mitigated\")])\n",
        "\n",
        "# 18. Number of threats per hour\n",
        "print(df.groupby(df[\"timestamp\"].dt.hour)[\"id\"].count())\n",
        "\n",
        "# 19. Percentage of each severity level\n",
        "print(df[\"severity\"].value_counts(normalize=True) * 100)\n",
        "\n",
        "# 20. Show threats of type Malware with High severity\n",
        "print(df[(df[\"threat_type\"] == \"Malware\") & (df[\"severity\"] == \"High\")])\n",
        "\n",
        "# 21. Show the latest recorded threat\n",
        "print(df.sort_values(\"timestamp\", ascending=False).head(1))\n"
      ],
      "metadata": {
        "colab": {
          "base_uri": "https://localhost:8080/"
        },
        "id": "yXMOQ782UEF4",
        "outputId": "5ab8055c-5787-430e-93ef-e60be1703db7"
      },
      "execution_count": 32,
      "outputs": [
        {
          "output_type": "stream",
          "name": "stdout",
          "text": [
            "source_ip\n",
            "192.168.1.10    1\n",
            "10.0.0.5        1\n",
            "172.16.0.3      1\n",
            "Name: count, dtype: int64\n",
            "   id           timestamp      source_ip destination_ip threat_type  severity  \\\n",
            "4   5 2025-08-20 11:15:00  198.51.100.22    192.168.1.2  Ransomware  Critical   \n",
            "9  10 2025-08-20 12:30:00  198.51.100.25    192.168.1.4  Ransomware  Critical   \n",
            "\n",
            "      status  \n",
            "4  Mitigated  \n",
            "9  Mitigated  \n",
            "timestamp\n",
            "10    3\n",
            "11    4\n",
            "12    3\n",
            "Name: id, dtype: int64\n",
            "severity\n",
            "High        40.0\n",
            "Critical    30.0\n",
            "Medium      20.0\n",
            "Low         10.0\n",
            "Name: proportion, dtype: float64\n",
            "   id           timestamp     source_ip destination_ip threat_type severity  \\\n",
            "0   1 2025-08-20 10:15:00  192.168.1.10       10.0.0.2     Malware     High   \n",
            "\n",
            "     status  \n",
            "0  Detected  \n",
            "   id           timestamp      source_ip destination_ip threat_type  severity  \\\n",
            "9  10 2025-08-20 12:30:00  198.51.100.25    192.168.1.4  Ransomware  Critical   \n",
            "\n",
            "      status  \n",
            "9  Mitigated  \n"
          ]
        }
      ]
    },
    {
      "cell_type": "code",
      "source": [
        "# Mount Google Drive to access dataset\n",
        "from google.colab import drive\n",
        "drive.mount('/content/drive')\n",
        "\n",
        "# Import libraries\n",
        "import pandas as pd\n",
        "import matplotlib.pyplot as plt\n",
        "import seaborn as sns\n",
        "\n",
        "# SQL queries inside pandas\n",
        "!pip install pandasql\n",
        "from pandasql import sqldf\n",
        "pysqldf = lambda q: sqldf(q, globals())\n"
      ],
      "metadata": {
        "colab": {
          "base_uri": "https://localhost:8080/"
        },
        "id": "sPKcgVqsUb4J",
        "outputId": "6d87517e-bac4-4338-e82b-9ad89cad8579"
      },
      "execution_count": 33,
      "outputs": [
        {
          "output_type": "stream",
          "name": "stdout",
          "text": [
            "Drive already mounted at /content/drive; to attempt to forcibly remount, call drive.mount(\"/content/drive\", force_remount=True).\n",
            "Requirement already satisfied: pandasql in /usr/local/lib/python3.12/dist-packages (0.7.3)\n",
            "Requirement already satisfied: numpy in /usr/local/lib/python3.12/dist-packages (from pandasql) (2.0.2)\n",
            "Requirement already satisfied: pandas in /usr/local/lib/python3.12/dist-packages (from pandasql) (2.2.2)\n",
            "Requirement already satisfied: sqlalchemy in /usr/local/lib/python3.12/dist-packages (from pandasql) (2.0.43)\n",
            "Requirement already satisfied: python-dateutil>=2.8.2 in /usr/local/lib/python3.12/dist-packages (from pandas->pandasql) (2.9.0.post0)\n",
            "Requirement already satisfied: pytz>=2020.1 in /usr/local/lib/python3.12/dist-packages (from pandas->pandasql) (2025.2)\n",
            "Requirement already satisfied: tzdata>=2022.7 in /usr/local/lib/python3.12/dist-packages (from pandas->pandasql) (2025.2)\n",
            "Requirement already satisfied: greenlet>=1 in /usr/local/lib/python3.12/dist-packages (from sqlalchemy->pandasql) (3.2.4)\n",
            "Requirement already satisfied: typing-extensions>=4.6.0 in /usr/local/lib/python3.12/dist-packages (from sqlalchemy->pandasql) (4.14.1)\n",
            "Requirement already satisfied: six>=1.5 in /usr/local/lib/python3.12/dist-packages (from python-dateutil>=2.8.2->pandas->pandasql) (1.17.0)\n"
          ]
        }
      ]
    },
    {
      "cell_type": "code",
      "source": [
        "from google.colab import drive\n",
        "drive.mount('/content/drive')\n"
      ],
      "metadata": {
        "colab": {
          "base_uri": "https://localhost:8080/"
        },
        "id": "E4XaZil7UxVx",
        "outputId": "dcc332b9-a04e-49f7-d199-1f3efa1ad72d"
      },
      "execution_count": 34,
      "outputs": [
        {
          "output_type": "stream",
          "name": "stdout",
          "text": [
            "Drive already mounted at /content/drive; to attempt to forcibly remount, call drive.mount(\"/content/drive\", force_remount=True).\n"
          ]
        }
      ]
    },
    {
      "cell_type": "code",
      "source": [
        "!ls /content/drive/MyDrive/\n"
      ],
      "metadata": {
        "colab": {
          "base_uri": "https://localhost:8080/"
        },
        "id": "kOpYDKtfVMFp",
        "outputId": "9d89f13e-9603-4487-f93b-a24566fe9de3"
      },
      "execution_count": 35,
      "outputs": [
        {
          "output_type": "stream",
          "name": "stdout",
          "text": [
            " Classroom\n",
            "'Colab Notebooks'\n",
            " cyber_threat_sample.csv\n",
            "'DOC-20241001-WA0011. (1).pdf'\n",
            " DOC-20241001-WA0011..pdf\n",
            " Financial_Literacy_Content.pdf\n",
            "'IBMDesign20250716-29-u1wevq (1).pdf'\n",
            " IBMDesign20250716-29-u1wevq.pdf\n",
            "'IBMDesign20250720-29-tttmod (1).pdf'\n",
            " IBMDesign20250720-29-tttmod.pdf\n",
            " IDT.pdf\n",
            " IMG-20241001-WA0014.jpg\n",
            " inbound1069719585714755221.pdf\n",
            " PAYMENTCODSOFT.jpg\n",
            "'RAG_lab_Rutu'\\''s_certificate (1).pdf'\n",
            "\"RAG_lab_Rutu's_certificate.pdf\"\n",
            "'Rutu acknowledment.pdf'\n",
            "'rutujaa_resume[1].pdf'\n",
            " Rutuja_Resume-1.pdf\n",
            "'Rutuja_Resume (1).pdf'\n",
            " Rutuja_Resume.pdf\n",
            " Screenshot_2025-05-09-13-07-46-48_439a3fec0400f8974d35eed09a31f914.jpg\n",
            " VID-20250301-WA0024.mp4\n"
          ]
        }
      ]
    },
    {
      "cell_type": "code",
      "source": [
        "!ls /content/drive/MyDrive/\n",
        "\n"
      ],
      "metadata": {
        "colab": {
          "base_uri": "https://localhost:8080/"
        },
        "id": "7fm1UzwdWpuL",
        "outputId": "f61a4289-4848-4758-f5dc-c2079bff392e"
      },
      "execution_count": 36,
      "outputs": [
        {
          "output_type": "stream",
          "name": "stdout",
          "text": [
            " Classroom\n",
            "'Colab Notebooks'\n",
            " cyber_threat_sample.csv\n",
            "'DOC-20241001-WA0011. (1).pdf'\n",
            " DOC-20241001-WA0011..pdf\n",
            " Financial_Literacy_Content.pdf\n",
            "'IBMDesign20250716-29-u1wevq (1).pdf'\n",
            " IBMDesign20250716-29-u1wevq.pdf\n",
            "'IBMDesign20250720-29-tttmod (1).pdf'\n",
            " IBMDesign20250720-29-tttmod.pdf\n",
            " IDT.pdf\n",
            " IMG-20241001-WA0014.jpg\n",
            " inbound1069719585714755221.pdf\n",
            " PAYMENTCODSOFT.jpg\n",
            "'RAG_lab_Rutu'\\''s_certificate (1).pdf'\n",
            "\"RAG_lab_Rutu's_certificate.pdf\"\n",
            "'Rutu acknowledment.pdf'\n",
            "'rutujaa_resume[1].pdf'\n",
            " Rutuja_Resume-1.pdf\n",
            "'Rutuja_Resume (1).pdf'\n",
            " Rutuja_Resume.pdf\n",
            " Screenshot_2025-05-09-13-07-46-48_439a3fec0400f8974d35eed09a31f914.jpg\n",
            " VID-20250301-WA0024.mp4\n"
          ]
        }
      ]
    },
    {
      "cell_type": "code",
      "source": [
        "import pandas as pd\n",
        "\n",
        "# Replace with your actual file name and folder if needed\n",
        "df = pd.read_csv(\"/content/drive/MyDrive/cyber_threat_sample.csv\")\n",
        "\n",
        "# Check first few rows\n",
        "print(df.head())\n"
      ],
      "metadata": {
        "colab": {
          "base_uri": "https://localhost:8080/"
        },
        "id": "nOkTwoh4W7Yn",
        "outputId": "9cbeba6c-d641-44b7-dfc2-7bbf094c87ce"
      },
      "execution_count": 37,
      "outputs": [
        {
          "output_type": "stream",
          "name": "stdout",
          "text": [
            "   id            timestamp      source_ip destination_ip    threat_type  \\\n",
            "0   1  2025-08-20 10:15:00   192.168.1.10       10.0.0.2        Malware   \n",
            "1   2  2025-08-20 10:30:00       10.0.0.5    192.168.1.1       Phishing   \n",
            "2   3  2025-08-20 10:45:00     172.16.0.3       10.0.0.1           DDoS   \n",
            "3   4  2025-08-20 11:00:00   203.0.113.45     172.16.0.2  SQL Injection   \n",
            "4   5  2025-08-20 11:15:00  198.51.100.22    192.168.1.2     Ransomware   \n",
            "\n",
            "   severity     status  \n",
            "0      High   Detected  \n",
            "1    Medium   Detected  \n",
            "2      High  Mitigated  \n",
            "3  Critical   Detected  \n",
            "4  Critical  Mitigated  \n"
          ]
        }
      ]
    },
    {
      "cell_type": "code",
      "source": [
        "# Mount Google Drive to access dataset\n",
        "from google.colab import drive\n",
        "drive.mount('/content/drive')\n",
        "\n",
        "# Import libraries\n",
        "import pandas as pd\n",
        "import matplotlib.pyplot as plt\n",
        "import seaborn as sns\n",
        "\n",
        "# SQL queries inside pandas\n",
        "!pip install pandasql\n",
        "from pandasql import sqldf\n",
        "pysqldf = lambda q: sqldf(q, globals())\n"
      ],
      "metadata": {
        "colab": {
          "base_uri": "https://localhost:8080/"
        },
        "id": "YQ1jGYH_XuB6",
        "outputId": "e1537530-0b16-4f59-8077-6cd22c867a69"
      },
      "execution_count": 38,
      "outputs": [
        {
          "output_type": "stream",
          "name": "stdout",
          "text": [
            "Drive already mounted at /content/drive; to attempt to forcibly remount, call drive.mount(\"/content/drive\", force_remount=True).\n",
            "Requirement already satisfied: pandasql in /usr/local/lib/python3.12/dist-packages (0.7.3)\n",
            "Requirement already satisfied: numpy in /usr/local/lib/python3.12/dist-packages (from pandasql) (2.0.2)\n",
            "Requirement already satisfied: pandas in /usr/local/lib/python3.12/dist-packages (from pandasql) (2.2.2)\n",
            "Requirement already satisfied: sqlalchemy in /usr/local/lib/python3.12/dist-packages (from pandasql) (2.0.43)\n",
            "Requirement already satisfied: python-dateutil>=2.8.2 in /usr/local/lib/python3.12/dist-packages (from pandas->pandasql) (2.9.0.post0)\n",
            "Requirement already satisfied: pytz>=2020.1 in /usr/local/lib/python3.12/dist-packages (from pandas->pandasql) (2025.2)\n",
            "Requirement already satisfied: tzdata>=2022.7 in /usr/local/lib/python3.12/dist-packages (from pandas->pandasql) (2025.2)\n",
            "Requirement already satisfied: greenlet>=1 in /usr/local/lib/python3.12/dist-packages (from sqlalchemy->pandasql) (3.2.4)\n",
            "Requirement already satisfied: typing-extensions>=4.6.0 in /usr/local/lib/python3.12/dist-packages (from sqlalchemy->pandasql) (4.14.1)\n",
            "Requirement already satisfied: six>=1.5 in /usr/local/lib/python3.12/dist-packages (from python-dateutil>=2.8.2->pandas->pandasql) (1.17.0)\n"
          ]
        }
      ]
    },
    {
      "cell_type": "code",
      "source": [
        "# Replace filename with whichever is correct (check sizes earlier)\n",
        "df = pd.read_csv(\"/content/drive/MyDrive/cyber_threat_sample.csv\")\n",
        "\n",
        "# Preview first 5 rows\n",
        "df.head()\n"
      ],
      "metadata": {
        "id": "tN-q9g7eXz12",
        "outputId": "8bbffcb6-0afb-4384-ffee-69371bdca712",
        "colab": {
          "base_uri": "https://localhost:8080/",
          "height": 245
        }
      },
      "execution_count": 39,
      "outputs": [
        {
          "output_type": "execute_result",
          "data": {
            "text/plain": [
              "   id            timestamp      source_ip destination_ip    threat_type  \\\n",
              "0   1  2025-08-20 10:15:00   192.168.1.10       10.0.0.2        Malware   \n",
              "1   2  2025-08-20 10:30:00       10.0.0.5    192.168.1.1       Phishing   \n",
              "2   3  2025-08-20 10:45:00     172.16.0.3       10.0.0.1           DDoS   \n",
              "3   4  2025-08-20 11:00:00   203.0.113.45     172.16.0.2  SQL Injection   \n",
              "4   5  2025-08-20 11:15:00  198.51.100.22    192.168.1.2     Ransomware   \n",
              "\n",
              "   severity     status  \n",
              "0      High   Detected  \n",
              "1    Medium   Detected  \n",
              "2      High  Mitigated  \n",
              "3  Critical   Detected  \n",
              "4  Critical  Mitigated  "
            ],
            "text/html": [
              "\n",
              "  <div id=\"df-d0338791-b547-4d09-9e17-d15cddb0da59\" class=\"colab-df-container\">\n",
              "    <div>\n",
              "<style scoped>\n",
              "    .dataframe tbody tr th:only-of-type {\n",
              "        vertical-align: middle;\n",
              "    }\n",
              "\n",
              "    .dataframe tbody tr th {\n",
              "        vertical-align: top;\n",
              "    }\n",
              "\n",
              "    .dataframe thead th {\n",
              "        text-align: right;\n",
              "    }\n",
              "</style>\n",
              "<table border=\"1\" class=\"dataframe\">\n",
              "  <thead>\n",
              "    <tr style=\"text-align: right;\">\n",
              "      <th></th>\n",
              "      <th>id</th>\n",
              "      <th>timestamp</th>\n",
              "      <th>source_ip</th>\n",
              "      <th>destination_ip</th>\n",
              "      <th>threat_type</th>\n",
              "      <th>severity</th>\n",
              "      <th>status</th>\n",
              "    </tr>\n",
              "  </thead>\n",
              "  <tbody>\n",
              "    <tr>\n",
              "      <th>0</th>\n",
              "      <td>1</td>\n",
              "      <td>2025-08-20 10:15:00</td>\n",
              "      <td>192.168.1.10</td>\n",
              "      <td>10.0.0.2</td>\n",
              "      <td>Malware</td>\n",
              "      <td>High</td>\n",
              "      <td>Detected</td>\n",
              "    </tr>\n",
              "    <tr>\n",
              "      <th>1</th>\n",
              "      <td>2</td>\n",
              "      <td>2025-08-20 10:30:00</td>\n",
              "      <td>10.0.0.5</td>\n",
              "      <td>192.168.1.1</td>\n",
              "      <td>Phishing</td>\n",
              "      <td>Medium</td>\n",
              "      <td>Detected</td>\n",
              "    </tr>\n",
              "    <tr>\n",
              "      <th>2</th>\n",
              "      <td>3</td>\n",
              "      <td>2025-08-20 10:45:00</td>\n",
              "      <td>172.16.0.3</td>\n",
              "      <td>10.0.0.1</td>\n",
              "      <td>DDoS</td>\n",
              "      <td>High</td>\n",
              "      <td>Mitigated</td>\n",
              "    </tr>\n",
              "    <tr>\n",
              "      <th>3</th>\n",
              "      <td>4</td>\n",
              "      <td>2025-08-20 11:00:00</td>\n",
              "      <td>203.0.113.45</td>\n",
              "      <td>172.16.0.2</td>\n",
              "      <td>SQL Injection</td>\n",
              "      <td>Critical</td>\n",
              "      <td>Detected</td>\n",
              "    </tr>\n",
              "    <tr>\n",
              "      <th>4</th>\n",
              "      <td>5</td>\n",
              "      <td>2025-08-20 11:15:00</td>\n",
              "      <td>198.51.100.22</td>\n",
              "      <td>192.168.1.2</td>\n",
              "      <td>Ransomware</td>\n",
              "      <td>Critical</td>\n",
              "      <td>Mitigated</td>\n",
              "    </tr>\n",
              "  </tbody>\n",
              "</table>\n",
              "</div>\n",
              "    <div class=\"colab-df-buttons\">\n",
              "\n",
              "  <div class=\"colab-df-container\">\n",
              "    <button class=\"colab-df-convert\" onclick=\"convertToInteractive('df-d0338791-b547-4d09-9e17-d15cddb0da59')\"\n",
              "            title=\"Convert this dataframe to an interactive table.\"\n",
              "            style=\"display:none;\">\n",
              "\n",
              "  <svg xmlns=\"http://www.w3.org/2000/svg\" height=\"24px\" viewBox=\"0 -960 960 960\">\n",
              "    <path d=\"M120-120v-720h720v720H120Zm60-500h600v-160H180v160Zm220 220h160v-160H400v160Zm0 220h160v-160H400v160ZM180-400h160v-160H180v160Zm440 0h160v-160H620v160ZM180-180h160v-160H180v160Zm440 0h160v-160H620v160Z\"/>\n",
              "  </svg>\n",
              "    </button>\n",
              "\n",
              "  <style>\n",
              "    .colab-df-container {\n",
              "      display:flex;\n",
              "      gap: 12px;\n",
              "    }\n",
              "\n",
              "    .colab-df-convert {\n",
              "      background-color: #E8F0FE;\n",
              "      border: none;\n",
              "      border-radius: 50%;\n",
              "      cursor: pointer;\n",
              "      display: none;\n",
              "      fill: #1967D2;\n",
              "      height: 32px;\n",
              "      padding: 0 0 0 0;\n",
              "      width: 32px;\n",
              "    }\n",
              "\n",
              "    .colab-df-convert:hover {\n",
              "      background-color: #E2EBFA;\n",
              "      box-shadow: 0px 1px 2px rgba(60, 64, 67, 0.3), 0px 1px 3px 1px rgba(60, 64, 67, 0.15);\n",
              "      fill: #174EA6;\n",
              "    }\n",
              "\n",
              "    .colab-df-buttons div {\n",
              "      margin-bottom: 4px;\n",
              "    }\n",
              "\n",
              "    [theme=dark] .colab-df-convert {\n",
              "      background-color: #3B4455;\n",
              "      fill: #D2E3FC;\n",
              "    }\n",
              "\n",
              "    [theme=dark] .colab-df-convert:hover {\n",
              "      background-color: #434B5C;\n",
              "      box-shadow: 0px 1px 3px 1px rgba(0, 0, 0, 0.15);\n",
              "      filter: drop-shadow(0px 1px 2px rgba(0, 0, 0, 0.3));\n",
              "      fill: #FFFFFF;\n",
              "    }\n",
              "  </style>\n",
              "\n",
              "    <script>\n",
              "      const buttonEl =\n",
              "        document.querySelector('#df-d0338791-b547-4d09-9e17-d15cddb0da59 button.colab-df-convert');\n",
              "      buttonEl.style.display =\n",
              "        google.colab.kernel.accessAllowed ? 'block' : 'none';\n",
              "\n",
              "      async function convertToInteractive(key) {\n",
              "        const element = document.querySelector('#df-d0338791-b547-4d09-9e17-d15cddb0da59');\n",
              "        const dataTable =\n",
              "          await google.colab.kernel.invokeFunction('convertToInteractive',\n",
              "                                                    [key], {});\n",
              "        if (!dataTable) return;\n",
              "\n",
              "        const docLinkHtml = 'Like what you see? Visit the ' +\n",
              "          '<a target=\"_blank\" href=https://colab.research.google.com/notebooks/data_table.ipynb>data table notebook</a>'\n",
              "          + ' to learn more about interactive tables.';\n",
              "        element.innerHTML = '';\n",
              "        dataTable['output_type'] = 'display_data';\n",
              "        await google.colab.output.renderOutput(dataTable, element);\n",
              "        const docLink = document.createElement('div');\n",
              "        docLink.innerHTML = docLinkHtml;\n",
              "        element.appendChild(docLink);\n",
              "      }\n",
              "    </script>\n",
              "  </div>\n",
              "\n",
              "\n",
              "    <div id=\"df-0ec6a740-a2c7-4060-9242-35e5490a7c6d\">\n",
              "      <button class=\"colab-df-quickchart\" onclick=\"quickchart('df-0ec6a740-a2c7-4060-9242-35e5490a7c6d')\"\n",
              "                title=\"Suggest charts\"\n",
              "                style=\"display:none;\">\n",
              "\n",
              "<svg xmlns=\"http://www.w3.org/2000/svg\" height=\"24px\"viewBox=\"0 0 24 24\"\n",
              "     width=\"24px\">\n",
              "    <g>\n",
              "        <path d=\"M19 3H5c-1.1 0-2 .9-2 2v14c0 1.1.9 2 2 2h14c1.1 0 2-.9 2-2V5c0-1.1-.9-2-2-2zM9 17H7v-7h2v7zm4 0h-2V7h2v10zm4 0h-2v-4h2v4z\"/>\n",
              "    </g>\n",
              "</svg>\n",
              "      </button>\n",
              "\n",
              "<style>\n",
              "  .colab-df-quickchart {\n",
              "      --bg-color: #E8F0FE;\n",
              "      --fill-color: #1967D2;\n",
              "      --hover-bg-color: #E2EBFA;\n",
              "      --hover-fill-color: #174EA6;\n",
              "      --disabled-fill-color: #AAA;\n",
              "      --disabled-bg-color: #DDD;\n",
              "  }\n",
              "\n",
              "  [theme=dark] .colab-df-quickchart {\n",
              "      --bg-color: #3B4455;\n",
              "      --fill-color: #D2E3FC;\n",
              "      --hover-bg-color: #434B5C;\n",
              "      --hover-fill-color: #FFFFFF;\n",
              "      --disabled-bg-color: #3B4455;\n",
              "      --disabled-fill-color: #666;\n",
              "  }\n",
              "\n",
              "  .colab-df-quickchart {\n",
              "    background-color: var(--bg-color);\n",
              "    border: none;\n",
              "    border-radius: 50%;\n",
              "    cursor: pointer;\n",
              "    display: none;\n",
              "    fill: var(--fill-color);\n",
              "    height: 32px;\n",
              "    padding: 0;\n",
              "    width: 32px;\n",
              "  }\n",
              "\n",
              "  .colab-df-quickchart:hover {\n",
              "    background-color: var(--hover-bg-color);\n",
              "    box-shadow: 0 1px 2px rgba(60, 64, 67, 0.3), 0 1px 3px 1px rgba(60, 64, 67, 0.15);\n",
              "    fill: var(--button-hover-fill-color);\n",
              "  }\n",
              "\n",
              "  .colab-df-quickchart-complete:disabled,\n",
              "  .colab-df-quickchart-complete:disabled:hover {\n",
              "    background-color: var(--disabled-bg-color);\n",
              "    fill: var(--disabled-fill-color);\n",
              "    box-shadow: none;\n",
              "  }\n",
              "\n",
              "  .colab-df-spinner {\n",
              "    border: 2px solid var(--fill-color);\n",
              "    border-color: transparent;\n",
              "    border-bottom-color: var(--fill-color);\n",
              "    animation:\n",
              "      spin 1s steps(1) infinite;\n",
              "  }\n",
              "\n",
              "  @keyframes spin {\n",
              "    0% {\n",
              "      border-color: transparent;\n",
              "      border-bottom-color: var(--fill-color);\n",
              "      border-left-color: var(--fill-color);\n",
              "    }\n",
              "    20% {\n",
              "      border-color: transparent;\n",
              "      border-left-color: var(--fill-color);\n",
              "      border-top-color: var(--fill-color);\n",
              "    }\n",
              "    30% {\n",
              "      border-color: transparent;\n",
              "      border-left-color: var(--fill-color);\n",
              "      border-top-color: var(--fill-color);\n",
              "      border-right-color: var(--fill-color);\n",
              "    }\n",
              "    40% {\n",
              "      border-color: transparent;\n",
              "      border-right-color: var(--fill-color);\n",
              "      border-top-color: var(--fill-color);\n",
              "    }\n",
              "    60% {\n",
              "      border-color: transparent;\n",
              "      border-right-color: var(--fill-color);\n",
              "    }\n",
              "    80% {\n",
              "      border-color: transparent;\n",
              "      border-right-color: var(--fill-color);\n",
              "      border-bottom-color: var(--fill-color);\n",
              "    }\n",
              "    90% {\n",
              "      border-color: transparent;\n",
              "      border-bottom-color: var(--fill-color);\n",
              "    }\n",
              "  }\n",
              "</style>\n",
              "\n",
              "      <script>\n",
              "        async function quickchart(key) {\n",
              "          const quickchartButtonEl =\n",
              "            document.querySelector('#' + key + ' button');\n",
              "          quickchartButtonEl.disabled = true;  // To prevent multiple clicks.\n",
              "          quickchartButtonEl.classList.add('colab-df-spinner');\n",
              "          try {\n",
              "            const charts = await google.colab.kernel.invokeFunction(\n",
              "                'suggestCharts', [key], {});\n",
              "          } catch (error) {\n",
              "            console.error('Error during call to suggestCharts:', error);\n",
              "          }\n",
              "          quickchartButtonEl.classList.remove('colab-df-spinner');\n",
              "          quickchartButtonEl.classList.add('colab-df-quickchart-complete');\n",
              "        }\n",
              "        (() => {\n",
              "          let quickchartButtonEl =\n",
              "            document.querySelector('#df-0ec6a740-a2c7-4060-9242-35e5490a7c6d button');\n",
              "          quickchartButtonEl.style.display =\n",
              "            google.colab.kernel.accessAllowed ? 'block' : 'none';\n",
              "        })();\n",
              "      </script>\n",
              "    </div>\n",
              "\n",
              "    </div>\n",
              "  </div>\n"
            ],
            "application/vnd.google.colaboratory.intrinsic+json": {
              "type": "dataframe",
              "variable_name": "df",
              "summary": "{\n  \"name\": \"df\",\n  \"rows\": 10,\n  \"fields\": [\n    {\n      \"column\": \"id\",\n      \"properties\": {\n        \"dtype\": \"number\",\n        \"std\": 3,\n        \"min\": 1,\n        \"max\": 10,\n        \"num_unique_values\": 10,\n        \"samples\": [\n          9,\n          2,\n          6\n        ],\n        \"semantic_type\": \"\",\n        \"description\": \"\"\n      }\n    },\n    {\n      \"column\": \"timestamp\",\n      \"properties\": {\n        \"dtype\": \"object\",\n        \"num_unique_values\": 10,\n        \"samples\": [\n          \"2025-08-20 12:15:00\",\n          \"2025-08-20 10:30:00\",\n          \"2025-08-20 11:30:00\"\n        ],\n        \"semantic_type\": \"\",\n        \"description\": \"\"\n      }\n    },\n    {\n      \"column\": \"source_ip\",\n      \"properties\": {\n        \"dtype\": \"string\",\n        \"num_unique_values\": 10,\n        \"samples\": [\n          \"203.0.113.50\",\n          \"10.0.0.5\",\n          \"192.168.1.15\"\n        ],\n        \"semantic_type\": \"\",\n        \"description\": \"\"\n      }\n    },\n    {\n      \"column\": \"destination_ip\",\n      \"properties\": {\n        \"dtype\": \"string\",\n        \"num_unique_values\": 10,\n        \"samples\": [\n          \"172.16.0.5\",\n          \"192.168.1.1\",\n          \"10.0.0.3\"\n        ],\n        \"semantic_type\": \"\",\n        \"description\": \"\"\n      }\n    },\n    {\n      \"column\": \"threat_type\",\n      \"properties\": {\n        \"dtype\": \"string\",\n        \"num_unique_values\": 6,\n        \"samples\": [\n          \"Malware\",\n          \"Phishing\",\n          \"Brute Force\"\n        ],\n        \"semantic_type\": \"\",\n        \"description\": \"\"\n      }\n    },\n    {\n      \"column\": \"severity\",\n      \"properties\": {\n        \"dtype\": \"category\",\n        \"num_unique_values\": 4,\n        \"samples\": [\n          \"Medium\",\n          \"Low\",\n          \"High\"\n        ],\n        \"semantic_type\": \"\",\n        \"description\": \"\"\n      }\n    },\n    {\n      \"column\": \"status\",\n      \"properties\": {\n        \"dtype\": \"category\",\n        \"num_unique_values\": 2,\n        \"samples\": [\n          \"Mitigated\",\n          \"Detected\"\n        ],\n        \"semantic_type\": \"\",\n        \"description\": \"\"\n      }\n    }\n  ]\n}"
            }
          },
          "metadata": {},
          "execution_count": 39
        }
      ]
    },
    {
      "cell_type": "code",
      "source": [
        "print(\"Shape of dataset:\", df.shape)\n",
        "print(\"\\nColumns:\\n\", df.columns)\n",
        "print(\"\\nMissing values:\\n\", df.isnull().sum())\n"
      ],
      "metadata": {
        "id": "XBr-NTuDX1rj",
        "outputId": "9e1180cd-069f-4043-a62d-2e7ed3aa710f",
        "colab": {
          "base_uri": "https://localhost:8080/"
        }
      },
      "execution_count": 40,
      "outputs": [
        {
          "output_type": "stream",
          "name": "stdout",
          "text": [
            "Shape of dataset: (10, 7)\n",
            "\n",
            "Columns:\n",
            " Index(['id', 'timestamp', 'source_ip', 'destination_ip', 'threat_type',\n",
            "       'severity', 'status'],\n",
            "      dtype='object')\n",
            "\n",
            "Missing values:\n",
            " id                0\n",
            "timestamp         0\n",
            "source_ip         0\n",
            "destination_ip    0\n",
            "threat_type       0\n",
            "severity          0\n",
            "status            0\n",
            "dtype: int64\n"
          ]
        }
      ]
    }
  ]
}